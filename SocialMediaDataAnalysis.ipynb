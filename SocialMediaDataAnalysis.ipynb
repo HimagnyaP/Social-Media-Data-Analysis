{
 "cells": [
  {
   "cell_type": "markdown",
   "metadata": {},
   "source": [
    "# Clean & Analyze Social Media"
   ]
  },
  {
   "cell_type": "markdown",
   "metadata": {},
   "source": [
    "## Introduction\n",
    "\n",
    "Social media has become a ubiquitous part of modern life, with platforms such as Instagram, Twitter, and Facebook serving as essential communication channels. Social media data sets are vast and complex, making analysis a challenging task for businesses and researchers alike. In this project, we explore a simulated social media, for example Tweets, data set to understand trends in likes across different categories.\n",
    "\n",
    "## Prerequisites\n",
    "\n",
    "To follow along with this project, you should have a basic understanding of Python programming and data analysis concepts. In addition, you may want to use the following packages in your Python environment:\n",
    "\n",
    "- pandas\n",
    "- Matplotlib\n",
    "- ...\n",
    "\n",
    "These packages should already be installed in Coursera's Jupyter Notebook environment, however if you'd like to install additional packages that are not included in this environment or are working off platform you can install additional packages using `!pip install packagename` within a notebook cell such as:\n",
    "\n",
    "- `!pip install pandas`\n",
    "- `!pip install matplotlib`\n",
    "\n",
    "## Project Scope\n",
    "\n",
    "The objective of this project is to analyze tweets (or other social media data) and gain insights into user engagement. We will explore the data set using visualization techniques to understand the distribution of likes across different categories. Finally, we will analyze the data to draw conclusions about the most popular categories and the overall engagement on the platform.\n",
    "\n",
    "## Step 1: Importing Required Libraries\n",
    "\n",
    "As the name suggests, the first step is to import all the necessary libraries that will be used in the project. In this case, we need pandas, numpy, matplotlib, seaborn, and random libraries.\n",
    "\n",
    "Pandas is a library used for data manipulation and analysis. Numpy is a library used for numerical computations. Matplotlib is a library used for data visualization. Seaborn is a library used for statistical data visualization. Random is a library used to generate random numbers."
   ]
  },
  {
   "cell_type": "code",
   "execution_count": 23,
   "metadata": {},
   "outputs": [
    {
     "name": "stdout",
     "output_type": "stream",
     "text": [
      "Requirement already satisfied: matplotlib in /opt/conda/lib/python3.7/site-packages (3.2.1)\n",
      "Requirement already satisfied: cycler>=0.10 in /opt/conda/lib/python3.7/site-packages (from matplotlib) (0.11.0)\n",
      "Requirement already satisfied: kiwisolver>=1.0.1 in /opt/conda/lib/python3.7/site-packages (from matplotlib) (1.2.0)\n",
      "Requirement already satisfied: numpy>=1.11 in /opt/conda/lib/python3.7/site-packages (from matplotlib) (1.20.3)\n",
      "Requirement already satisfied: pyparsing!=2.0.4,!=2.1.2,!=2.1.6,>=2.0.1 in /opt/conda/lib/python3.7/site-packages (from matplotlib) (3.1.2)\n",
      "Requirement already satisfied: python-dateutil>=2.1 in /opt/conda/lib/python3.7/site-packages (from matplotlib) (2.9.0)\n",
      "Requirement already satisfied: six>=1.5 in /opt/conda/lib/python3.7/site-packages (from python-dateutil>=2.1->matplotlib) (1.16.0)\n",
      "Requirement already satisfied: pandas in /opt/conda/lib/python3.7/site-packages (1.0.3)\n",
      "Requirement already satisfied: python-dateutil>=2.6.1 in /opt/conda/lib/python3.7/site-packages (from pandas) (2.9.0)\n",
      "Requirement already satisfied: pytz>=2017.2 in /opt/conda/lib/python3.7/site-packages (from pandas) (2024.1)\n",
      "Requirement already satisfied: numpy>=1.13.3 in /opt/conda/lib/python3.7/site-packages (from pandas) (1.20.3)\n",
      "Requirement already satisfied: six>=1.5 in /opt/conda/lib/python3.7/site-packages (from python-dateutil>=2.6.1->pandas) (1.16.0)\n",
      "Requirement already satisfied: numpy in /opt/conda/lib/python3.7/site-packages (1.20.3)\n",
      "Requirement already satisfied: seaborn in /opt/conda/lib/python3.7/site-packages (0.12.2)\n",
      "Requirement already satisfied: numpy!=1.24.0,>=1.17 in /opt/conda/lib/python3.7/site-packages (from seaborn) (1.20.3)\n",
      "Requirement already satisfied: pandas>=0.25 in /opt/conda/lib/python3.7/site-packages (from seaborn) (1.0.3)\n",
      "Requirement already satisfied: matplotlib!=3.6.1,>=3.1 in /opt/conda/lib/python3.7/site-packages (from seaborn) (3.2.1)\n",
      "Requirement already satisfied: typing_extensions in /opt/conda/lib/python3.7/site-packages (from seaborn) (4.5.0)\n",
      "Requirement already satisfied: cycler>=0.10 in /opt/conda/lib/python3.7/site-packages (from matplotlib!=3.6.1,>=3.1->seaborn) (0.11.0)\n",
      "Requirement already satisfied: kiwisolver>=1.0.1 in /opt/conda/lib/python3.7/site-packages (from matplotlib!=3.6.1,>=3.1->seaborn) (1.2.0)\n",
      "Requirement already satisfied: pyparsing!=2.0.4,!=2.1.2,!=2.1.6,>=2.0.1 in /opt/conda/lib/python3.7/site-packages (from matplotlib!=3.6.1,>=3.1->seaborn) (3.1.2)\n",
      "Requirement already satisfied: python-dateutil>=2.1 in /opt/conda/lib/python3.7/site-packages (from matplotlib!=3.6.1,>=3.1->seaborn) (2.9.0)\n",
      "Requirement already satisfied: pytz>=2017.2 in /opt/conda/lib/python3.7/site-packages (from pandas>=0.25->seaborn) (2024.1)\n",
      "Requirement already satisfied: six>=1.5 in /opt/conda/lib/python3.7/site-packages (from python-dateutil>=2.1->matplotlib!=3.6.1,>=3.1->seaborn) (1.16.0)\n"
     ]
    }
   ],
   "source": [
    "!pip install matplotlib\n",
    "!pip install pandas\n",
    "!pip install numpy\n",
    "!pip install seaborn"
   ]
  },
  {
   "cell_type": "code",
   "execution_count": 2,
   "metadata": {},
   "outputs": [],
   "source": [
    "import matplotlib as mp\n",
    "import pandas as pd\n",
    "import numpy as np\n",
    "import random as rd\n",
    "from pandas import DataFrame"
   ]
  },
  {
   "cell_type": "code",
   "execution_count": 3,
   "metadata": {},
   "outputs": [],
   "source": [
    "import seaborn as sns"
   ]
  },
  {
   "cell_type": "markdown",
   "metadata": {},
   "source": [
    "## Step 2: – Generate random data for the social media data"
   ]
  },
  {
   "cell_type": "code",
   "execution_count": 4,
   "metadata": {},
   "outputs": [],
   "source": [
    "categories = [\"Animal\", \"Beauty\", \"Family\",\"Devotion\", \"Facts\", \"Science\"]"
   ]
  },
  {
   "cell_type": "code",
   "execution_count": 5,
   "metadata": {},
   "outputs": [],
   "source": [
    "data = {'Date': pd.date_range('2021-01-01', periods=500),'Category': [rd.choice(categories) for _ in range(500)],'Likes': np.random.randint(0, 10000, size=500)}"
   ]
  },
  {
   "cell_type": "code",
   "execution_count": 6,
   "metadata": {},
   "outputs": [
    {
     "data": {
      "text/plain": [
       "{'Date': DatetimeIndex(['2021-01-01', '2021-01-02', '2021-01-03', '2021-01-04',\n",
       "                '2021-01-05', '2021-01-06', '2021-01-07', '2021-01-08',\n",
       "                '2021-01-09', '2021-01-10',\n",
       "                ...\n",
       "                '2022-05-06', '2022-05-07', '2022-05-08', '2022-05-09',\n",
       "                '2022-05-10', '2022-05-11', '2022-05-12', '2022-05-13',\n",
       "                '2022-05-14', '2022-05-15'],\n",
       "               dtype='datetime64[ns]', length=500, freq='D'),\n",
       " 'Category': ['Beauty',\n",
       "  'Animal',\n",
       "  'Animal',\n",
       "  'Beauty',\n",
       "  'Beauty',\n",
       "  'Science',\n",
       "  'Science',\n",
       "  'Science',\n",
       "  'Facts',\n",
       "  'Family',\n",
       "  'Devotion',\n",
       "  'Family',\n",
       "  'Facts',\n",
       "  'Devotion',\n",
       "  'Facts',\n",
       "  'Family',\n",
       "  'Animal',\n",
       "  'Family',\n",
       "  'Family',\n",
       "  'Beauty',\n",
       "  'Animal',\n",
       "  'Family',\n",
       "  'Family',\n",
       "  'Science',\n",
       "  'Devotion',\n",
       "  'Science',\n",
       "  'Science',\n",
       "  'Facts',\n",
       "  'Family',\n",
       "  'Family',\n",
       "  'Animal',\n",
       "  'Beauty',\n",
       "  'Science',\n",
       "  'Animal',\n",
       "  'Facts',\n",
       "  'Science',\n",
       "  'Family',\n",
       "  'Beauty',\n",
       "  'Animal',\n",
       "  'Family',\n",
       "  'Facts',\n",
       "  'Devotion',\n",
       "  'Devotion',\n",
       "  'Family',\n",
       "  'Science',\n",
       "  'Science',\n",
       "  'Science',\n",
       "  'Animal',\n",
       "  'Devotion',\n",
       "  'Devotion',\n",
       "  'Animal',\n",
       "  'Devotion',\n",
       "  'Animal',\n",
       "  'Science',\n",
       "  'Animal',\n",
       "  'Beauty',\n",
       "  'Science',\n",
       "  'Family',\n",
       "  'Beauty',\n",
       "  'Science',\n",
       "  'Beauty',\n",
       "  'Devotion',\n",
       "  'Animal',\n",
       "  'Devotion',\n",
       "  'Animal',\n",
       "  'Science',\n",
       "  'Family',\n",
       "  'Science',\n",
       "  'Beauty',\n",
       "  'Facts',\n",
       "  'Beauty',\n",
       "  'Beauty',\n",
       "  'Beauty',\n",
       "  'Family',\n",
       "  'Family',\n",
       "  'Family',\n",
       "  'Family',\n",
       "  'Animal',\n",
       "  'Devotion',\n",
       "  'Science',\n",
       "  'Beauty',\n",
       "  'Facts',\n",
       "  'Devotion',\n",
       "  'Beauty',\n",
       "  'Family',\n",
       "  'Family',\n",
       "  'Science',\n",
       "  'Animal',\n",
       "  'Science',\n",
       "  'Beauty',\n",
       "  'Facts',\n",
       "  'Facts',\n",
       "  'Animal',\n",
       "  'Facts',\n",
       "  'Animal',\n",
       "  'Family',\n",
       "  'Devotion',\n",
       "  'Beauty',\n",
       "  'Family',\n",
       "  'Animal',\n",
       "  'Family',\n",
       "  'Science',\n",
       "  'Devotion',\n",
       "  'Facts',\n",
       "  'Animal',\n",
       "  'Facts',\n",
       "  'Beauty',\n",
       "  'Animal',\n",
       "  'Animal',\n",
       "  'Animal',\n",
       "  'Animal',\n",
       "  'Devotion',\n",
       "  'Beauty',\n",
       "  'Beauty',\n",
       "  'Facts',\n",
       "  'Devotion',\n",
       "  'Animal',\n",
       "  'Facts',\n",
       "  'Facts',\n",
       "  'Science',\n",
       "  'Animal',\n",
       "  'Devotion',\n",
       "  'Facts',\n",
       "  'Science',\n",
       "  'Science',\n",
       "  'Science',\n",
       "  'Facts',\n",
       "  'Devotion',\n",
       "  'Science',\n",
       "  'Animal',\n",
       "  'Animal',\n",
       "  'Science',\n",
       "  'Family',\n",
       "  'Science',\n",
       "  'Devotion',\n",
       "  'Beauty',\n",
       "  'Beauty',\n",
       "  'Science',\n",
       "  'Beauty',\n",
       "  'Devotion',\n",
       "  'Science',\n",
       "  'Devotion',\n",
       "  'Family',\n",
       "  'Animal',\n",
       "  'Family',\n",
       "  'Animal',\n",
       "  'Science',\n",
       "  'Animal',\n",
       "  'Family',\n",
       "  'Facts',\n",
       "  'Animal',\n",
       "  'Facts',\n",
       "  'Animal',\n",
       "  'Science',\n",
       "  'Beauty',\n",
       "  'Facts',\n",
       "  'Family',\n",
       "  'Facts',\n",
       "  'Facts',\n",
       "  'Beauty',\n",
       "  'Family',\n",
       "  'Family',\n",
       "  'Facts',\n",
       "  'Animal',\n",
       "  'Science',\n",
       "  'Devotion',\n",
       "  'Family',\n",
       "  'Family',\n",
       "  'Animal',\n",
       "  'Beauty',\n",
       "  'Science',\n",
       "  'Science',\n",
       "  'Devotion',\n",
       "  'Family',\n",
       "  'Family',\n",
       "  'Animal',\n",
       "  'Devotion',\n",
       "  'Facts',\n",
       "  'Beauty',\n",
       "  'Devotion',\n",
       "  'Science',\n",
       "  'Facts',\n",
       "  'Family',\n",
       "  'Facts',\n",
       "  'Science',\n",
       "  'Beauty',\n",
       "  'Family',\n",
       "  'Animal',\n",
       "  'Beauty',\n",
       "  'Devotion',\n",
       "  'Family',\n",
       "  'Animal',\n",
       "  'Devotion',\n",
       "  'Family',\n",
       "  'Facts',\n",
       "  'Animal',\n",
       "  'Devotion',\n",
       "  'Family',\n",
       "  'Animal',\n",
       "  'Family',\n",
       "  'Science',\n",
       "  'Devotion',\n",
       "  'Animal',\n",
       "  'Science',\n",
       "  'Devotion',\n",
       "  'Science',\n",
       "  'Facts',\n",
       "  'Family',\n",
       "  'Facts',\n",
       "  'Devotion',\n",
       "  'Facts',\n",
       "  'Animal',\n",
       "  'Beauty',\n",
       "  'Science',\n",
       "  'Beauty',\n",
       "  'Beauty',\n",
       "  'Devotion',\n",
       "  'Science',\n",
       "  'Science',\n",
       "  'Facts',\n",
       "  'Facts',\n",
       "  'Devotion',\n",
       "  'Family',\n",
       "  'Beauty',\n",
       "  'Facts',\n",
       "  'Beauty',\n",
       "  'Animal',\n",
       "  'Facts',\n",
       "  'Animal',\n",
       "  'Science',\n",
       "  'Devotion',\n",
       "  'Science',\n",
       "  'Facts',\n",
       "  'Facts',\n",
       "  'Science',\n",
       "  'Animal',\n",
       "  'Animal',\n",
       "  'Animal',\n",
       "  'Family',\n",
       "  'Family',\n",
       "  'Animal',\n",
       "  'Animal',\n",
       "  'Science',\n",
       "  'Family',\n",
       "  'Animal',\n",
       "  'Family',\n",
       "  'Beauty',\n",
       "  'Animal',\n",
       "  'Devotion',\n",
       "  'Facts',\n",
       "  'Devotion',\n",
       "  'Animal',\n",
       "  'Devotion',\n",
       "  'Family',\n",
       "  'Science',\n",
       "  'Facts',\n",
       "  'Family',\n",
       "  'Facts',\n",
       "  'Family',\n",
       "  'Family',\n",
       "  'Family',\n",
       "  'Family',\n",
       "  'Devotion',\n",
       "  'Science',\n",
       "  'Animal',\n",
       "  'Beauty',\n",
       "  'Beauty',\n",
       "  'Science',\n",
       "  'Science',\n",
       "  'Devotion',\n",
       "  'Beauty',\n",
       "  'Facts',\n",
       "  'Science',\n",
       "  'Animal',\n",
       "  'Animal',\n",
       "  'Devotion',\n",
       "  'Science',\n",
       "  'Facts',\n",
       "  'Science',\n",
       "  'Animal',\n",
       "  'Science',\n",
       "  'Family',\n",
       "  'Family',\n",
       "  'Devotion',\n",
       "  'Facts',\n",
       "  'Science',\n",
       "  'Animal',\n",
       "  'Facts',\n",
       "  'Science',\n",
       "  'Family',\n",
       "  'Science',\n",
       "  'Animal',\n",
       "  'Science',\n",
       "  'Beauty',\n",
       "  'Family',\n",
       "  'Devotion',\n",
       "  'Devotion',\n",
       "  'Beauty',\n",
       "  'Beauty',\n",
       "  'Animal',\n",
       "  'Facts',\n",
       "  'Facts',\n",
       "  'Beauty',\n",
       "  'Beauty',\n",
       "  'Devotion',\n",
       "  'Devotion',\n",
       "  'Science',\n",
       "  'Facts',\n",
       "  'Devotion',\n",
       "  'Science',\n",
       "  'Animal',\n",
       "  'Science',\n",
       "  'Animal',\n",
       "  'Beauty',\n",
       "  'Science',\n",
       "  'Facts',\n",
       "  'Animal',\n",
       "  'Facts',\n",
       "  'Devotion',\n",
       "  'Beauty',\n",
       "  'Facts',\n",
       "  'Beauty',\n",
       "  'Devotion',\n",
       "  'Beauty',\n",
       "  'Science',\n",
       "  'Devotion',\n",
       "  'Animal',\n",
       "  'Science',\n",
       "  'Facts',\n",
       "  'Beauty',\n",
       "  'Family',\n",
       "  'Facts',\n",
       "  'Animal',\n",
       "  'Family',\n",
       "  'Family',\n",
       "  'Facts',\n",
       "  'Devotion',\n",
       "  'Science',\n",
       "  'Devotion',\n",
       "  'Devotion',\n",
       "  'Animal',\n",
       "  'Devotion',\n",
       "  'Family',\n",
       "  'Family',\n",
       "  'Facts',\n",
       "  'Beauty',\n",
       "  'Devotion',\n",
       "  'Animal',\n",
       "  'Facts',\n",
       "  'Devotion',\n",
       "  'Family',\n",
       "  'Devotion',\n",
       "  'Facts',\n",
       "  'Devotion',\n",
       "  'Family',\n",
       "  'Facts',\n",
       "  'Animal',\n",
       "  'Beauty',\n",
       "  'Animal',\n",
       "  'Science',\n",
       "  'Beauty',\n",
       "  'Animal',\n",
       "  'Family',\n",
       "  'Animal',\n",
       "  'Family',\n",
       "  'Devotion',\n",
       "  'Beauty',\n",
       "  'Devotion',\n",
       "  'Beauty',\n",
       "  'Beauty',\n",
       "  'Animal',\n",
       "  'Family',\n",
       "  'Beauty',\n",
       "  'Family',\n",
       "  'Animal',\n",
       "  'Science',\n",
       "  'Devotion',\n",
       "  'Beauty',\n",
       "  'Animal',\n",
       "  'Family',\n",
       "  'Family',\n",
       "  'Facts',\n",
       "  'Family',\n",
       "  'Family',\n",
       "  'Animal',\n",
       "  'Science',\n",
       "  'Beauty',\n",
       "  'Facts',\n",
       "  'Family',\n",
       "  'Animal',\n",
       "  'Family',\n",
       "  'Animal',\n",
       "  'Family',\n",
       "  'Devotion',\n",
       "  'Science',\n",
       "  'Science',\n",
       "  'Animal',\n",
       "  'Animal',\n",
       "  'Facts',\n",
       "  'Family',\n",
       "  'Science',\n",
       "  'Beauty',\n",
       "  'Beauty',\n",
       "  'Science',\n",
       "  'Facts',\n",
       "  'Science',\n",
       "  'Animal',\n",
       "  'Family',\n",
       "  'Family',\n",
       "  'Devotion',\n",
       "  'Facts',\n",
       "  'Science',\n",
       "  'Family',\n",
       "  'Beauty',\n",
       "  'Animal',\n",
       "  'Facts',\n",
       "  'Science',\n",
       "  'Family',\n",
       "  'Family',\n",
       "  'Family',\n",
       "  'Beauty',\n",
       "  'Facts',\n",
       "  'Beauty',\n",
       "  'Beauty',\n",
       "  'Animal',\n",
       "  'Science',\n",
       "  'Animal',\n",
       "  'Animal',\n",
       "  'Beauty',\n",
       "  'Beauty',\n",
       "  'Science',\n",
       "  'Family',\n",
       "  'Animal',\n",
       "  'Facts',\n",
       "  'Family',\n",
       "  'Animal',\n",
       "  'Devotion',\n",
       "  'Beauty',\n",
       "  'Family',\n",
       "  'Devotion',\n",
       "  'Science',\n",
       "  'Family',\n",
       "  'Devotion',\n",
       "  'Facts',\n",
       "  'Science',\n",
       "  'Beauty',\n",
       "  'Animal',\n",
       "  'Beauty',\n",
       "  'Family',\n",
       "  'Family',\n",
       "  'Beauty',\n",
       "  'Devotion',\n",
       "  'Devotion',\n",
       "  'Animal',\n",
       "  'Devotion',\n",
       "  'Family',\n",
       "  'Devotion',\n",
       "  'Science',\n",
       "  'Devotion',\n",
       "  'Family',\n",
       "  'Beauty',\n",
       "  'Beauty',\n",
       "  'Devotion',\n",
       "  'Devotion',\n",
       "  'Beauty',\n",
       "  'Facts',\n",
       "  'Family',\n",
       "  'Devotion',\n",
       "  'Science',\n",
       "  'Family',\n",
       "  'Devotion',\n",
       "  'Devotion',\n",
       "  'Beauty',\n",
       "  'Facts',\n",
       "  'Family',\n",
       "  'Beauty',\n",
       "  'Family',\n",
       "  'Science',\n",
       "  'Facts',\n",
       "  'Animal',\n",
       "  'Beauty',\n",
       "  'Facts',\n",
       "  'Science',\n",
       "  'Devotion',\n",
       "  'Facts',\n",
       "  'Animal',\n",
       "  'Family',\n",
       "  'Family',\n",
       "  'Animal',\n",
       "  'Beauty',\n",
       "  'Family',\n",
       "  'Family',\n",
       "  'Family',\n",
       "  'Science',\n",
       "  'Devotion',\n",
       "  'Family',\n",
       "  'Facts',\n",
       "  'Science',\n",
       "  'Facts',\n",
       "  'Animal'],\n",
       " 'Likes': array([8245, 4306, 8780, 7160, 4950, 5077, 7766, 1172, 2703,  424, 9888,\n",
       "        1008,  871, 8072, 5357, 9318, 8567, 9526, 6234,  517,  301, 8500,\n",
       "        2698, 7843, 7452, 1510, 1031, 2171, 5231, 9574, 2885, 3761, 9015,\n",
       "        8721, 9152, 1578, 6569, 2787, 6058, 2368, 4394, 5166, 5464, 2053,\n",
       "        2632, 8431, 9302, 3534, 4354, 2594, 9082, 2238, 2921, 8083, 6407,\n",
       "        9493, 9539, 1655, 1904, 1071, 3848, 6612, 3576, 6361, 5920,  935,\n",
       "        9695,  205, 9649,  894, 6899, 8287,  657, 5892, 3182, 2947, 1772,\n",
       "         999,  910, 7379, 1674, 2998, 2591, 9302, 8385, 7954, 1626, 8990,\n",
       "        7911, 4000,  229, 4373, 2786, 5143, 3636, 2962, 3173, 7083, 8366,\n",
       "        1723, 6220, 9147, 1503, 3101, 1564,  931, 1330, 2072, 4514,  342,\n",
       "        5381, 1216, 9090,  771, 9291,  840, 5187, 2043, 7037, 1193, 4071,\n",
       "        5227, 7940, 4306, 6904, 2740, 1034, 4575, 8493, 9633, 1199, 3547,\n",
       "        3830, 5139, 4695, 3255, 6916, 7848, 9673, 5814, 9073, 3514, 2267,\n",
       "        2977, 7597, 4183, 8547, 9870, 5498, 8470, 9364, 6600, 9633,  142,\n",
       "        1744,  363, 2370, 9321, 4573, 2595, 7470, 7053, 9729, 1427, 6406,\n",
       "        5886, 3299, 3537, 1503,  669, 3506, 3309,  824, 2778, 7101, 5125,\n",
       "        5666, 5959, 9630, 4967, 8515,  105, 5264, 4284, 4593, 9072, 8765,\n",
       "        8262, 1122, 1956, 3529,  378, 8572, 2704, 5793, 2255, 6412, 4955,\n",
       "        5457,  749, 4022, 8869, 5695, 6498, 5133, 9276,  925, 3397, 5705,\n",
       "        8307, 6075, 5977, 6200, 8557, 9993, 4286,  555, 6237,  785, 4266,\n",
       "        9355, 3988, 6026, 2048, 4729, 4741, 3812, 3458, 6425, 6123, 3418,\n",
       "        7406, 3849, 4057, 7507, 8490, 5013, 1099, 4942,  255, 7846, 8614,\n",
       "        5214, 9297, 1068, 2712, 4263, 4446, 1605, 3146,  928, 2552, 9642,\n",
       "        4846, 9524, 5786, 1956, 2747,   14, 2437,   33, 9327, 2408,  743,\n",
       "         338, 1062, 5831, 3734,  197,   34, 7821, 3288, 7686, 3094,  894,\n",
       "        2373,  975, 9810, 6445, 7599, 1719, 7289, 4377, 7437,  409, 2319,\n",
       "        3005, 6059, 8971,  908, 3049,  630, 1962, 2826, 7413, 8194,  528,\n",
       "        2795, 6780, 8469, 1647,  461, 2317, 1530, 5649,  884,  181, 4170,\n",
       "        6039, 4274, 6116, 5956, 7266, 4052, 3013, 2256, 1375, 6909, 6431,\n",
       "        1429,  370, 5320, 3485, 3174, 1064, 8895, 3869, 8268, 4472, 5011,\n",
       "        5143, 1604, 9081, 7937, 5564, 2928, 9814, 8165, 6916, 7504, 9755,\n",
       "        1884,   70, 5240, 9912, 6353, 2084, 7778, 9129, 3460, 4103, 2575,\n",
       "        1886, 5257, 9798, 4851, 8888, 9508, 8007, 3156, 9864,  993, 1902,\n",
       "        3553, 3281, 2724, 8744, 9744, 3401, 7269, 9385, 1979, 9352, 3994,\n",
       "        1064, 7053,  134, 5364, 3787, 7255, 6659, 9980, 4334, 3727, 3781,\n",
       "        3083, 1665, 2359,  907, 7706,  742, 8936,   55, 4997, 4607,  254,\n",
       "        8356, 3171, 8983, 8149, 9492,  124, 5650, 8029, 8725,  386, 7824,\n",
       "        3862, 8114, 5393, 1970, 1293, 9375, 5964, 1825, 8518, 3904, 8397,\n",
       "        2624, 7385, 5284, 2954, 2219, 1642,  490, 9886, 2892, 8562, 4600,\n",
       "        8292, 6773, 9402, 2868, 3293, 9424, 1733, 1437, 2059, 8259, 8906,\n",
       "        6963, 5848, 6559, 1144, 5283, 6056, 1007, 7117, 3740, 1892, 1287,\n",
       "        2198, 4013, 9643, 7808, 6102, 8041, 3043, 7769, 6820, 5266, 7294,\n",
       "        9244, 1530, 7850,  992, 2477, 1152, 3801, 9770,  875, 8177, 4972,\n",
       "        2199, 7406, 7077, 4054, 2143, 9274, 9904, 8861, 1432, 4416, 5208,\n",
       "        9239, 9161, 5621, 4170, 2529,  281, 1134, 3366, 5452, 3698, 5372,\n",
       "        1101, 8480, 2203, 2187,  655])}"
      ]
     },
     "execution_count": 6,
     "metadata": {},
     "output_type": "execute_result"
    }
   ],
   "source": [
    "data"
   ]
  },
  {
   "cell_type": "markdown",
   "metadata": {},
   "source": [
    "## Step 3: – Load the data into a Pandas DataFrame and Explore the data"
   ]
  },
  {
   "cell_type": "code",
   "execution_count": 7,
   "metadata": {},
   "outputs": [
    {
     "name": "stdout",
     "output_type": "stream",
     "text": [
      "Empty DataFrame\n",
      "Columns: []\n",
      "Index: []\n"
     ]
    }
   ],
   "source": [
    "import pandas as pd\n",
    "\n",
    "df = pd.DataFrame()\n",
    "\n",
    "print(df)"
   ]
  },
  {
   "cell_type": "code",
   "execution_count": 8,
   "metadata": {},
   "outputs": [],
   "source": [
    "df = pd.DataFrame(data)"
   ]
  },
  {
   "cell_type": "code",
   "execution_count": 9,
   "metadata": {},
   "outputs": [
    {
     "data": {
      "text/html": [
       "<div>\n",
       "<style scoped>\n",
       "    .dataframe tbody tr th:only-of-type {\n",
       "        vertical-align: middle;\n",
       "    }\n",
       "\n",
       "    .dataframe tbody tr th {\n",
       "        vertical-align: top;\n",
       "    }\n",
       "\n",
       "    .dataframe thead th {\n",
       "        text-align: right;\n",
       "    }\n",
       "</style>\n",
       "<table border=\"1\" class=\"dataframe\">\n",
       "  <thead>\n",
       "    <tr style=\"text-align: right;\">\n",
       "      <th></th>\n",
       "      <th>Likes</th>\n",
       "    </tr>\n",
       "  </thead>\n",
       "  <tbody>\n",
       "    <tr>\n",
       "      <th>count</th>\n",
       "      <td>500.000000</td>\n",
       "    </tr>\n",
       "    <tr>\n",
       "      <th>mean</th>\n",
       "      <td>4825.140000</td>\n",
       "    </tr>\n",
       "    <tr>\n",
       "      <th>std</th>\n",
       "      <td>2996.027891</td>\n",
       "    </tr>\n",
       "    <tr>\n",
       "      <th>min</th>\n",
       "      <td>14.000000</td>\n",
       "    </tr>\n",
       "    <tr>\n",
       "      <th>25%</th>\n",
       "      <td>2198.750000</td>\n",
       "    </tr>\n",
       "    <tr>\n",
       "      <th>50%</th>\n",
       "      <td>4543.500000</td>\n",
       "    </tr>\n",
       "    <tr>\n",
       "      <th>75%</th>\n",
       "      <td>7597.500000</td>\n",
       "    </tr>\n",
       "    <tr>\n",
       "      <th>max</th>\n",
       "      <td>9993.000000</td>\n",
       "    </tr>\n",
       "  </tbody>\n",
       "</table>\n",
       "</div>"
      ],
      "text/plain": [
       "             Likes\n",
       "count   500.000000\n",
       "mean   4825.140000\n",
       "std    2996.027891\n",
       "min      14.000000\n",
       "25%    2198.750000\n",
       "50%    4543.500000\n",
       "75%    7597.500000\n",
       "max    9993.000000"
      ]
     },
     "execution_count": 9,
     "metadata": {},
     "output_type": "execute_result"
    }
   ],
   "source": [
    "df.describe()"
   ]
  },
  {
   "cell_type": "code",
   "execution_count": 10,
   "metadata": {},
   "outputs": [
    {
     "data": {
      "text/html": [
       "<div>\n",
       "<style scoped>\n",
       "    .dataframe tbody tr th:only-of-type {\n",
       "        vertical-align: middle;\n",
       "    }\n",
       "\n",
       "    .dataframe tbody tr th {\n",
       "        vertical-align: top;\n",
       "    }\n",
       "\n",
       "    .dataframe thead th {\n",
       "        text-align: right;\n",
       "    }\n",
       "</style>\n",
       "<table border=\"1\" class=\"dataframe\">\n",
       "  <thead>\n",
       "    <tr style=\"text-align: right;\">\n",
       "      <th></th>\n",
       "      <th>Date</th>\n",
       "      <th>Category</th>\n",
       "      <th>Likes</th>\n",
       "    </tr>\n",
       "  </thead>\n",
       "  <tbody>\n",
       "    <tr>\n",
       "      <th>0</th>\n",
       "      <td>2021-01-01</td>\n",
       "      <td>Beauty</td>\n",
       "      <td>8245</td>\n",
       "    </tr>\n",
       "    <tr>\n",
       "      <th>1</th>\n",
       "      <td>2021-01-02</td>\n",
       "      <td>Animal</td>\n",
       "      <td>4306</td>\n",
       "    </tr>\n",
       "    <tr>\n",
       "      <th>2</th>\n",
       "      <td>2021-01-03</td>\n",
       "      <td>Animal</td>\n",
       "      <td>8780</td>\n",
       "    </tr>\n",
       "    <tr>\n",
       "      <th>3</th>\n",
       "      <td>2021-01-04</td>\n",
       "      <td>Beauty</td>\n",
       "      <td>7160</td>\n",
       "    </tr>\n",
       "    <tr>\n",
       "      <th>4</th>\n",
       "      <td>2021-01-05</td>\n",
       "      <td>Beauty</td>\n",
       "      <td>4950</td>\n",
       "    </tr>\n",
       "    <tr>\n",
       "      <th>...</th>\n",
       "      <td>...</td>\n",
       "      <td>...</td>\n",
       "      <td>...</td>\n",
       "    </tr>\n",
       "    <tr>\n",
       "      <th>95</th>\n",
       "      <td>2021-04-06</td>\n",
       "      <td>Family</td>\n",
       "      <td>2962</td>\n",
       "    </tr>\n",
       "    <tr>\n",
       "      <th>96</th>\n",
       "      <td>2021-04-07</td>\n",
       "      <td>Devotion</td>\n",
       "      <td>3173</td>\n",
       "    </tr>\n",
       "    <tr>\n",
       "      <th>97</th>\n",
       "      <td>2021-04-08</td>\n",
       "      <td>Beauty</td>\n",
       "      <td>7083</td>\n",
       "    </tr>\n",
       "    <tr>\n",
       "      <th>98</th>\n",
       "      <td>2021-04-09</td>\n",
       "      <td>Family</td>\n",
       "      <td>8366</td>\n",
       "    </tr>\n",
       "    <tr>\n",
       "      <th>99</th>\n",
       "      <td>2021-04-10</td>\n",
       "      <td>Animal</td>\n",
       "      <td>1723</td>\n",
       "    </tr>\n",
       "  </tbody>\n",
       "</table>\n",
       "<p>100 rows × 3 columns</p>\n",
       "</div>"
      ],
      "text/plain": [
       "         Date  Category  Likes\n",
       "0  2021-01-01    Beauty   8245\n",
       "1  2021-01-02    Animal   4306\n",
       "2  2021-01-03    Animal   8780\n",
       "3  2021-01-04    Beauty   7160\n",
       "4  2021-01-05    Beauty   4950\n",
       "..        ...       ...    ...\n",
       "95 2021-04-06    Family   2962\n",
       "96 2021-04-07  Devotion   3173\n",
       "97 2021-04-08    Beauty   7083\n",
       "98 2021-04-09    Family   8366\n",
       "99 2021-04-10    Animal   1723\n",
       "\n",
       "[100 rows x 3 columns]"
      ]
     },
     "execution_count": 10,
     "metadata": {},
     "output_type": "execute_result"
    }
   ],
   "source": [
    "df.head(100)"
   ]
  },
  {
   "cell_type": "code",
   "execution_count": 11,
   "metadata": {},
   "outputs": [
    {
     "data": {
      "text/plain": [
       "<bound method DataFrame.info of           Date Category  Likes\n",
       "0   2021-01-01   Beauty   8245\n",
       "1   2021-01-02   Animal   4306\n",
       "2   2021-01-03   Animal   8780\n",
       "3   2021-01-04   Beauty   7160\n",
       "4   2021-01-05   Beauty   4950\n",
       "..         ...      ...    ...\n",
       "495 2022-05-11   Family   1101\n",
       "496 2022-05-12    Facts   8480\n",
       "497 2022-05-13  Science   2203\n",
       "498 2022-05-14    Facts   2187\n",
       "499 2022-05-15   Animal    655\n",
       "\n",
       "[500 rows x 3 columns]>"
      ]
     },
     "execution_count": 11,
     "metadata": {},
     "output_type": "execute_result"
    }
   ],
   "source": [
    "df.info"
   ]
  },
  {
   "cell_type": "code",
   "execution_count": 12,
   "metadata": {},
   "outputs": [
    {
     "data": {
      "text/plain": [
       "Date        500\n",
       "Category    500\n",
       "Likes       500\n",
       "dtype: int64"
      ]
     },
     "execution_count": 12,
     "metadata": {},
     "output_type": "execute_result"
    }
   ],
   "source": [
    "df.count()"
   ]
  },
  {
   "cell_type": "code",
   "execution_count": 13,
   "metadata": {},
   "outputs": [
    {
     "data": {
      "text/plain": [
       "0      3\n",
       "1      3\n",
       "2      3\n",
       "3      3\n",
       "4      3\n",
       "      ..\n",
       "495    3\n",
       "496    3\n",
       "497    3\n",
       "498    3\n",
       "499    3\n",
       "Length: 500, dtype: int64"
      ]
     },
     "execution_count": 13,
     "metadata": {},
     "output_type": "execute_result"
    }
   ],
   "source": [
    "df.count(axis=\"columns\")"
   ]
  },
  {
   "cell_type": "code",
   "execution_count": 14,
   "metadata": {},
   "outputs": [
    {
     "name": "stdout",
     "output_type": "stream",
     "text": [
      "          Date Category  Likes\n",
      "0   2021-01-01   Beauty   8245\n",
      "1   2021-01-02   Animal   4306\n",
      "2   2021-01-03   Animal   8780\n",
      "3   2021-01-04   Beauty   7160\n",
      "4   2021-01-05   Beauty   4950\n",
      "..         ...      ...    ...\n",
      "495 2022-05-11   Family   1101\n",
      "496 2022-05-12    Facts   8480\n",
      "497 2022-05-13  Science   2203\n",
      "498 2022-05-14    Facts   2187\n",
      "499 2022-05-15   Animal    655\n",
      "\n",
      "[500 rows x 3 columns]\n"
     ]
    }
   ],
   "source": [
    "print(df)"
   ]
  },
  {
   "cell_type": "code",
   "execution_count": 15,
   "metadata": {},
   "outputs": [
    {
     "data": {
      "text/plain": [
       "Family      99\n",
       "Animal      90\n",
       "Science     85\n",
       "Devotion    77\n",
       "Beauty      76\n",
       "Facts       73\n",
       "Name: Category, dtype: int64"
      ]
     },
     "execution_count": 15,
     "metadata": {},
     "output_type": "execute_result"
    }
   ],
   "source": [
    "df[\"Category\"].value_counts()"
   ]
  },
  {
   "cell_type": "markdown",
   "metadata": {},
   "source": [
    "## Step 4:  – Clean the data"
   ]
  },
  {
   "cell_type": "code",
   "execution_count": 16,
   "metadata": {},
   "outputs": [
    {
     "data": {
      "text/plain": [
       "0     2021-01-01\n",
       "1     2021-01-02\n",
       "2     2021-01-03\n",
       "3     2021-01-04\n",
       "4     2021-01-05\n",
       "         ...    \n",
       "495   2022-05-11\n",
       "496   2022-05-12\n",
       "497   2022-05-13\n",
       "498   2022-05-14\n",
       "499   2022-05-15\n",
       "Name: Date, Length: 500, dtype: datetime64[ns]"
      ]
     },
     "execution_count": 16,
     "metadata": {},
     "output_type": "execute_result"
    }
   ],
   "source": [
    "pd.to_datetime(df[\"Date\"])"
   ]
  },
  {
   "cell_type": "code",
   "execution_count": 26,
   "metadata": {},
   "outputs": [
    {
     "data": {
      "text/plain": [
       "Date        datetime64[ns]\n",
       "Category            object\n",
       "Likes                int32\n",
       "dtype: object"
      ]
     },
     "execution_count": 26,
     "metadata": {},
     "output_type": "execute_result"
    }
   ],
   "source": [
    "df.astype({'Likes': 'int32'}).dtypes"
   ]
  },
  {
   "cell_type": "markdown",
   "metadata": {},
   "source": [
    "## Step 5: – Visualize and Analyze the data"
   ]
  },
  {
   "cell_type": "code",
   "execution_count": 20,
   "metadata": {},
   "outputs": [
    {
     "data": {
      "text/plain": [
       "<matplotlib.axes._subplots.AxesSubplot at 0x7fb7f344d690>"
      ]
     },
     "execution_count": 20,
     "metadata": {},
     "output_type": "execute_result"
    },
    {
     "data": {
      "image/png": "[encoded data removed]",
      "text/plain": [
       "<Figure size 432x288 with 1 Axes>"
      ]
     },
     "metadata": {
      "needs_background": "light"
     },
     "output_type": "display_data"
    }
   ],
   "source": [
    "sns.boxplot(data=df, x =\"Category\", y = \"Likes\")"
   ]
  },
  {
   "cell_type": "code",
   "execution_count": 21,
   "metadata": {},
   "outputs": [
    {
     "data": {
      "text/plain": [
       "<matplotlib.axes._subplots.AxesSubplot at 0x7fb7f12bf410>"
      ]
     },
     "execution_count": 21,
     "metadata": {},
     "output_type": "execute_result"
    },
    {
     "data": {
      "image/png": "[encoded data removed]",
      "text/plain": [
       "<Figure size 432x288 with 1 Axes>"
      ]
     },
     "metadata": {
      "needs_background": "light"
     },
     "output_type": "display_data"
    }
   ],
   "source": [
    "sns.histplot(data=df, x = \"Likes\")"
   ]
  },
  {
   "cell_type": "code",
   "execution_count": 22,
   "metadata": {},
   "outputs": [
    {
     "data": {
      "text/plain": [
       "4825.14"
      ]
     },
     "execution_count": 22,
     "metadata": {},
     "output_type": "execute_result"
    }
   ],
   "source": [
    "df[\"Likes\"].mean()"
   ]
  },
  {
   "cell_type": "code",
   "execution_count": 24,
   "metadata": {},
   "outputs": [
    {
     "name": "stdout",
     "output_type": "stream",
     "text": [
      "          Date Category  Likes\n",
      "0   2021-01-01   Beauty   8245\n",
      "1   2021-01-02   Animal   4306\n",
      "2   2021-01-03   Animal   8780\n",
      "3   2021-01-04   Beauty   7160\n",
      "4   2021-01-05   Beauty   4950\n",
      "..         ...      ...    ...\n",
      "495 2022-05-11   Family   1101\n",
      "496 2022-05-12    Facts   8480\n",
      "497 2022-05-13  Science   2203\n",
      "498 2022-05-14    Facts   2187\n",
      "499 2022-05-15   Animal    655\n",
      "\n",
      "[500 rows x 3 columns]\n"
     ]
    }
   ],
   "source": [
    "print(df)"
   ]
  },
  {
   "cell_type": "code",
   "execution_count": 30,
   "metadata": {},
   "outputs": [
    {
     "data": {
      "text/plain": [
       "Category\n",
       "Animal      4895.722222\n",
       "Beauty      5012.855263\n",
       "Devotion    4702.844156\n",
       "Facts       4532.150685\n",
       "Family      4880.424242\n",
       "Science     4880.588235\n",
       "Name: Likes, dtype: float64"
      ]
     },
     "execution_count": 30,
     "metadata": {},
     "output_type": "execute_result"
    }
   ],
   "source": [
    "df.groupby(\"Category\")[\"Likes\"].mean()"
   ]
  },
  {
   "cell_type": "code",
   "execution_count": null,
   "metadata": {},
   "outputs": [],
   "source": []
  }
 ],
 "metadata": {
  "kernelspec": {
   "display_name": "Python 3",
   "language": "python",
   "name": "python3"
  },
  "language_info": {
   "codemirror_mode": {
    "name": "ipython",
    "version": 3
   },
   "file_extension": ".py",
   "mimetype": "text/x-python",
   "name": "python",
   "nbconvert_exporter": "python",
   "pygments_lexer": "ipython3",
   "version": "3.7.6"
  }
 },
 "nbformat": 4,
 "nbformat_minor": 4
}
